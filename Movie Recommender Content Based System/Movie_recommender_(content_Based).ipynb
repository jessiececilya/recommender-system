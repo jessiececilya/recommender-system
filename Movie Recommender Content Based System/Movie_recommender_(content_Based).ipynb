{
  "nbformat": 4,
  "nbformat_minor": 0,
  "metadata": {
    "colab": {
      "name": "Movie recommender (content Based)",
      "provenance": [],
      "collapsed_sections": [],
      "authorship_tag": "ABX9TyN9rkNx+k0wgopJ3hMxngjC",
      "include_colab_link": true
    },
    "kernelspec": {
      "name": "python3",
      "display_name": "Python 3"
    },
    "language_info": {
      "name": "python"
    }
  },
  "cells": [
    {
      "cell_type": "markdown",
      "metadata": {
        "id": "view-in-github",
        "colab_type": "text"
      },
      "source": [
        "<a href=\"https://colab.research.google.com/github/jessiececilya/Projects/blob/main/Movie_recommender_(content_Based).ipynb\" target=\"_parent\"><img src=\"https://colab.research.google.com/assets/colab-badge.svg\" alt=\"Open In Colab\"/></a>"
      ]
    },
    {
      "cell_type": "code",
      "metadata": {
        "colab": {
          "base_uri": "https://localhost:8080/",
          "height": 288
        },
        "id": "dO3WoY2yg8n8",
        "outputId": "018a4e4c-a2ee-4ac9-ffbe-c8f4945978d6"
      },
      "source": [
        "import pandas as pd\n",
        "from rake_nltk import Rake\n",
        "import numpy as np\n",
        "from sklearn.metrics.pairwise import cosine_similarity\n",
        "from sklearn.feature_extraction.text import CountVectorizer\n",
        "import re\n",
        "import string\n",
        "pd.set_option('display.max_colwidth',100)\n",
        "\n",
        "df = pd.read_csv('https://query.data.world/s/uikepcpffyo2nhig52xxeevdialfl7')\n",
        "\n",
        "df = df[['Title','Genre','Director','Actors','Plot']]\n",
        "df.head()"
      ],
      "execution_count": 251,
      "outputs": [
        {
          "output_type": "execute_result",
          "data": {
            "text/html": [
              "<div>\n",
              "<style scoped>\n",
              "    .dataframe tbody tr th:only-of-type {\n",
              "        vertical-align: middle;\n",
              "    }\n",
              "\n",
              "    .dataframe tbody tr th {\n",
              "        vertical-align: top;\n",
              "    }\n",
              "\n",
              "    .dataframe thead th {\n",
              "        text-align: right;\n",
              "    }\n",
              "</style>\n",
              "<table border=\"1\" class=\"dataframe\">\n",
              "  <thead>\n",
              "    <tr style=\"text-align: right;\">\n",
              "      <th></th>\n",
              "      <th>Title</th>\n",
              "      <th>Genre</th>\n",
              "      <th>Director</th>\n",
              "      <th>Actors</th>\n",
              "      <th>Plot</th>\n",
              "    </tr>\n",
              "  </thead>\n",
              "  <tbody>\n",
              "    <tr>\n",
              "      <th>0</th>\n",
              "      <td>The Shawshank Redemption</td>\n",
              "      <td>Crime, Drama</td>\n",
              "      <td>Frank Darabont</td>\n",
              "      <td>Tim Robbins, Morgan Freeman, Bob Gunton, William Sadler</td>\n",
              "      <td>Two imprisoned men bond over a number of years, finding solace and eventual redemption through a...</td>\n",
              "    </tr>\n",
              "    <tr>\n",
              "      <th>1</th>\n",
              "      <td>The Godfather</td>\n",
              "      <td>Crime, Drama</td>\n",
              "      <td>Francis Ford Coppola</td>\n",
              "      <td>Marlon Brando, Al Pacino, James Caan, Richard S. Castellano</td>\n",
              "      <td>The aging patriarch of an organized crime dynasty transfers control of his clandestine empire to...</td>\n",
              "    </tr>\n",
              "    <tr>\n",
              "      <th>2</th>\n",
              "      <td>The Godfather: Part II</td>\n",
              "      <td>Crime, Drama</td>\n",
              "      <td>Francis Ford Coppola</td>\n",
              "      <td>Al Pacino, Robert Duvall, Diane Keaton, Robert De Niro</td>\n",
              "      <td>The early life and career of Vito Corleone in 1920s New York is portrayed while his son, Michael...</td>\n",
              "    </tr>\n",
              "    <tr>\n",
              "      <th>3</th>\n",
              "      <td>The Dark Knight</td>\n",
              "      <td>Action, Crime, Drama</td>\n",
              "      <td>Christopher Nolan</td>\n",
              "      <td>Christian Bale, Heath Ledger, Aaron Eckhart, Michael Caine</td>\n",
              "      <td>When the menace known as the Joker emerges from his mysterious past, he wreaks havoc and chaos o...</td>\n",
              "    </tr>\n",
              "    <tr>\n",
              "      <th>4</th>\n",
              "      <td>12 Angry Men</td>\n",
              "      <td>Crime, Drama</td>\n",
              "      <td>Sidney Lumet</td>\n",
              "      <td>Martin Balsam, John Fiedler, Lee J. Cobb, E.G. Marshall</td>\n",
              "      <td>A jury holdout attempts to prevent a miscarriage of justice by forcing his colleagues to reconsi...</td>\n",
              "    </tr>\n",
              "  </tbody>\n",
              "</table>\n",
              "</div>"
            ],
            "text/plain": [
              "                      Title  ...                                                                                                 Plot\n",
              "0  The Shawshank Redemption  ...  Two imprisoned men bond over a number of years, finding solace and eventual redemption through a...\n",
              "1             The Godfather  ...  The aging patriarch of an organized crime dynasty transfers control of his clandestine empire to...\n",
              "2    The Godfather: Part II  ...  The early life and career of Vito Corleone in 1920s New York is portrayed while his son, Michael...\n",
              "3           The Dark Knight  ...  When the menace known as the Joker emerges from his mysterious past, he wreaks havoc and chaos o...\n",
              "4              12 Angry Men  ...  A jury holdout attempts to prevent a miscarriage of justice by forcing his colleagues to reconsi...\n",
              "\n",
              "[5 rows x 5 columns]"
            ]
          },
          "metadata": {
            "tags": []
          },
          "execution_count": 251
        }
      ]
    },
    {
      "cell_type": "code",
      "metadata": {
        "colab": {
          "base_uri": "https://localhost:8080/"
        },
        "id": "WeAiLFgqg9ij",
        "outputId": "1e73ba84-346b-4f8a-900b-2d4cb7827967"
      },
      "source": [
        "pip install rake_nltk"
      ],
      "execution_count": 252,
      "outputs": [
        {
          "output_type": "stream",
          "text": [
            "Requirement already satisfied: rake_nltk in /usr/local/lib/python3.7/dist-packages (1.0.4)\n",
            "Requirement already satisfied: nltk in /usr/local/lib/python3.7/dist-packages (from rake_nltk) (3.2.5)\n",
            "Requirement already satisfied: six in /usr/local/lib/python3.7/dist-packages (from nltk->rake_nltk) (1.15.0)\n"
          ],
          "name": "stdout"
        }
      ]
    },
    {
      "cell_type": "code",
      "metadata": {
        "colab": {
          "base_uri": "https://localhost:8080/",
          "height": 35
        },
        "id": "LZDIMSCMu7QJ",
        "outputId": "e3278cde-4398-4013-9ea5-48423038f2ba"
      },
      "source": [
        "df.iloc[2]['Plot']"
      ],
      "execution_count": 255,
      "outputs": [
        {
          "output_type": "execute_result",
          "data": {
            "application/vnd.google.colaboratory.intrinsic+json": {
              "type": "string"
            },
            "text/plain": [
              "'The early life and career of Vito Corleone in 1920s New York is portrayed while his son, Michael, expands and tightens his grip on the family crime syndicate.'"
            ]
          },
          "metadata": {
            "tags": []
          },
          "execution_count": 255
        }
      ]
    },
    {
      "cell_type": "code",
      "metadata": {
        "colab": {
          "base_uri": "https://localhost:8080/"
        },
        "id": "OPP_xxT_vZE0",
        "outputId": "344280ea-ccf4-4a06-e850-e5b76f64b03b"
      },
      "source": [
        "for index, row in df.iterrows():\n",
        "    # plot = row['Plot']\n",
        "    print(row['Plot'])"
      ],
      "execution_count": 258,
      "outputs": [
        {
          "output_type": "stream",
          "text": [
            "Two imprisoned men bond over a number of years, finding solace and eventual redemption through acts of common decency.\n",
            "The aging patriarch of an organized crime dynasty transfers control of his clandestine empire to his reluctant son.\n",
            "The early life and career of Vito Corleone in 1920s New York is portrayed while his son, Michael, expands and tightens his grip on the family crime syndicate.\n",
            "When the menace known as the Joker emerges from his mysterious past, he wreaks havoc and chaos on the people of Gotham, the Dark Knight must accept one of the greatest psychological and physical tests of his ability to fight injustice.\n",
            "A jury holdout attempts to prevent a miscarriage of justice by forcing his colleagues to reconsider the evidence.\n",
            "In German-occupied Poland during World War II, Oskar Schindler gradually becomes concerned for his Jewish workforce after witnessing their persecution by the Nazi Germans.\n",
            "Gandalf and Aragorn lead the World of Men against Sauron's army to draw his gaze from Frodo and Sam as they approach Mount Doom with the One Ring.\n",
            "The lives of two mob hit men, a boxer, a gangster's wife, and a pair of diner bandits intertwine in four tales of violence and redemption.\n",
            "An insomniac office worker, looking for a way to change his life, crosses paths with a devil-may-care soap maker, forming an underground fight club that evolves into something much, much more.\n",
            "A meek Hobbit from the Shire and eight companions set out on a journey to destroy the powerful One Ring and save Middle Earth from the Dark Lord Sauron.\n",
            "While not intelligent, Forrest Gump has accidentally been present at many historic moments, but his true love, Jenny Curran, eludes him.\n",
            "After the rebels are overpowered by the Empire on their newly established base, Luke Skywalker begins Jedi training with Master Yoda. His friends accept shelter from a questionable ally as Darth Vader hunts them in a plan to capture Luke.\n",
            "A thief, who steals corporate secrets through use of dream-sharing technology, is given the inverse task of planting an idea into the mind of a CEO.\n",
            "While Frodo and Sam edge closer to Mordor with the help of the shifty Gollum, the divided fellowship makes a stand against Sauron's new ally, Saruman, and his hordes of Isengard.\n",
            "A criminal pleads insanity after getting into trouble again and once in the mental institution rebels against the oppressive nurse and rallies up the scared patients.\n",
            "The story of Henry Hill and his life through the teen years into the years of mafia, covering his relationship with wife Karen Hill and his Mob partners Jimmy Conway and Tommy DeVitto in the Italian-American crime syndicate.\n",
            "A computer hacker learns from mysterious rebels about the true nature of his reality and his role in the war against its controllers.\n",
            "Luke Skywalker joins forces with a Jedi Knight, a cocky pilot, a wookiee and two droids to save the galaxy from the Empire's world-destroying battle-station, while also attempting to rescue Princess Leia from the evil Darth Vader.\n",
            "Two detectives, a rookie and a veteran, hunt a serial killer who uses the seven deadly sins as his motives.\n",
            "An angel is sent from Heaven to help a desperately frustrated businessman by showing him what life would have been like if he had never existed.\n",
            "A young F.B.I. cadet must confide in an incarcerated and manipulative killer to receive his help on catching another serial killer who skins his victims.\n",
            "A sole survivor tells of the twisty events leading up to a horrific gun battle on a boat, which began when five criminals met at a seemingly random police lineup.\n",
            "Mathilda, a 12-year-old girl, is reluctantly taken in by Léon, a professional assassin, after her family is murdered. Léon and Mathilda form an unusual relationship, as she becomes his protégée and learns the assassin's trade.\n",
            "Following the Normandy Landings, a group of U.S. soldiers go behind enemy lines to retrieve a paratrooper whose brothers have been killed in action.\n",
            "With the aid of a wealthy erratic tippler, a dewy-eyed tramp who has fallen in love with a sightless flower girl accumulates money to be able to help her medically.\n",
            "A team of explorers travel through a wormhole in space in an attempt to ensure humanity's survival.\n",
            "A former neo-nazi skinhead tries to prevent his younger brother from going down the same wrong path that he did.\n",
            "The Tramp struggles to live in modern industrial society with the help of a young homeless woman.\n",
            "In Casablanca in December 1941, a cynical American expatriate encounters a former lover, with unforeseen complications.\n",
            "The lives of guards on Death Row are affected by one of their charges: a black man accused of child murder and rape, yet who has a mysterious gift.\n",
            "A Phoenix secretary embezzles $40,000 from her employer's client, goes on the run, and checks into a remote motel run by a young man under the domination of his mother.\n",
            "Archaeologist and adventurer Indiana Jones is hired by the U.S. government to find the Ark of the Covenant before the Nazis.\n",
            "A Polish Jewish musician struggles to survive the destruction of the Warsaw ghetto of World War II.\n",
            "A wheelchair-bound photographer spies on his neighbours from his apartment window and becomes convinced one of them has committed murder.\n",
            "An undercover cop and a mole in the police attempt to identify each other while infiltrating an Irish gang in South Boston.\n",
            "A promising young drummer enrolls at a cut-throat music conservatory where his dreams of greatness are mentored by an instructor who will stop at nothing to realize a student's potential.\n",
            "A cyborg, identical to the one who failed to kill Sarah Connor, must now protect her ten year old son, John Connor, from a more advanced cyborg.\n",
            "Marty McFly, a 17-year-old high school student, is accidentally sent 30 years into the past in a time-traveling DeLorean invented by his close friend, the maverick scientist Doc Brown.\n",
            "When a Roman general is betrayed and his family murdered by an emperor's corrupt son, he comes to Rome as a gladiator to seek revenge.\n",
            "Lion cub and future king Simba searches for his identity. His eagerness to please others and penchant for testing his boundaries sometimes gets him into trouble.\n",
            "Two stage magicians engage in competitive one-upmanship in an attempt to create the ultimate stage illusion.\n",
            "During the Vietnam War, Captain Willard is sent on a dangerous mission into Cambodia to assassinate a renegade colonel who has set himself up as a god among a local tribe.\n",
            "A man juggles searching for his wife's murderer and keeping his short-term memory loss from being an obstacle.\n",
            "Dictator Adenoid Hynkel tries to expand his empire while a poor Jewish barber tries to avoid persecution from Hynkel's regime.\n",
            "A screenwriter is hired to rework a faded silent film star's script only to find himself developing a dangerous relationship.\n",
            "After a space merchant vessel perceives an unknown transmission as a distress call, its landing on the source moon finds one of the crew attacked by a mysterious life-form, and they soon realize that its life cycle has merely begun.\n",
            "An insane general triggers a path to nuclear holocaust that a war room full of politicians and generals frantically try to stop.\n",
            "After refusing to attack an enemy position, a general accuses the soldiers of cowardice and their commanding officer must defend them.\n",
            "With the help of a German bounty hunter , a freed slave sets out to rescue his wife from a brutal Mississippi plantation owner.\n",
            "A family heads to an isolated hotel for the winter where an evil and spiritual presence influences the father into violence, while his psychic son sees horrific forebodings from the past and of the future.\n",
            "A veteran British barrister must defend his client in a murder trial that has surprise after surprise.\n",
            "Eight years after the Joker's reign of anarchy, the Dark Knight, with the help of the enigmatic Selina, is forced from his imposed exile to save Gotham City, now on the edge of total annihilation, from the brutal guerrilla terrorist Bane.\n",
            "In the distant future, a small waste-collecting robot inadvertently embarks on a space journey that will ultimately decide the fate of mankind.\n",
            "A sexually frustrated suburban father has a mid-life crisis after becoming infatuated with his daughter's best friend.\n",
            "A former Prohibition-era Jewish gangster returns to the Lower East Side of Manhattan over thirty years later, where he once again must confront the ghosts and regrets of his old life.\n",
            "The moon from Alien (1979) has been colonized, but contact is lost. This time, the rescue team has impressive firepower, but will it be enough?\n",
            "Following the death of a publishing tycoon, news reporters scramble to discover the meaning of his final utterance.\n",
            "A hapless New York advertising executive is mistaken for a government agent by a group of foreign spies, and is pursued across the country while he looks for a way to survive.\n",
            "A San Francisco detective suffering from acrophobia investigates the strange activities of an old friend's wife, all the while becoming dangerously obsessed with her.\n",
            "After a daring mission to rescue Han Solo from Jabba the Hutt, the rebels dispatch to Endor to destroy a more powerful Death Star. Meanwhile, Luke struggles to help Vader back from the dark side without falling into the Emperor's trap.\n",
            "When his secret bride is executed for assaulting an English soldier who tried to rape her, Sir William Wallace begins a revolt against King Edward I of England.\n",
            "After a simple jewelry heist goes terribly wrong, the surviving criminals begin to suspect that one of them is a police informant.\n",
            "An insurance representative lets himself be talked into a murder/insurance fraud scheme that arouses an insurance investigator's suspicions.\n",
            "The drug-induced utopias of four Coney Island people are shattered when their addictions run deep.\n",
            "The story of T.E. Lawrence, the English officer who successfully united and led the diverse, often warring, Arab tribes during World War I in order to fight the Turks.\n",
            "The Tramp cares for an abandoned child, but events put that relationship in jeopardy.\n",
            "In future Britain, Alex DeLarge, a charismatic and psycopath delinquent, who likes to practice crimes and ultra-violence with his gang, is jailed and volunteers for an experimental aversion therapy developed by the government in an effort to solve society's crime problem - but not all goes according to plan.\n",
            "The incredible story of Wolfgang Amadeus Mozart, told by his peer and secret rival Antonio Salieri - now confined to an insane asylum.\n",
            "Atticus Finch, a lawyer in the Depression-era South, defends a black man against an undeserved rape charge, and his children against prejudice.\n",
            "When their relationship turns sour, a couple undergoes a procedure to have each other erased from their memories. But it is only through the process of loss that they discover what they had to begin with.\n",
            "A silent film production company and cast make a difficult transition to sound.\n",
            "A mentally unstable Vietnam War veteran works as a night-time taxi driver in New York City where the perceived decadence and sleaze feeds his urge for violent action, while attempting to save a preadolescent prostitute in the process.\n",
            "In Chicago in September 1936, a young con man seeking revenge for his murdered partner teams up with a master of the big con to win a fortune from a criminal banker.\n",
            "The toys are mistakenly delivered to a day-care center instead of the attic right before Andy leaves for college, and it's up to Woody to convince the other toys that they weren't abandoned and to return home.\n",
            "Humanity finds a mysterious, obviously artificial object buried beneath the Lunar surface and, with the intelligent computer H.A.L. 9000, sets off on a quest.\n",
            "A pragmatic U.S. Marine observes the dehumanizing effects the Vietnam War has on his fellow recruits from their brutal boot camp training to the bloody street fighting in Hue.\n",
            "After being coerced into working for a crime boss, a young getaway driver finds himself taking part in a heist doomed to fail.\n",
            "A cowboy doll is profoundly threatened and jealous when a new spaceman figure supplants him as top toy in a boy's room.\n",
            "In Nazi-occupied France during World War II, a plan to assassinate Nazi leaders by a group of Jewish U.S. soldiers coincides with a theatre owner's vengeful plans for the same.\n",
            "Unscrupulous boxing promoters, violent bookmakers, a Russian gangster, incompetent amateur robbers, and supposedly Jewish jewelers fight to track down a priceless stolen diamond.\n",
            "A man tries to rise in his company by letting its executives use his apartment for trysts, but complications and a romance of his own ensue.\n",
            "An ingenue insinuates herself into the company of an established but aging stage actress and her circle of theater friends.\n",
            "King Arthur and his knights embark on a low-budget search for the Grail, encountering many, very silly obstacles.\n",
            "In Miami in 1980, a determined Cuban immigrant takes over a drug cartel and succumbs to greed.\n",
            "As corruption grows in 1950s LA, three policemen - one strait-laced, one brutal, and one sleazy - investigate a series of murders with their own brand of justice.\n",
            "Will Hunting, a janitor at M.I.T., has a gift for mathematics, but needs help from a psychologist to find direction in his life.\n",
            "Fred Dobbs and Bob Curtin, two Americans searching for work in Mexico, convince an old prospector to help them mine for gold in the Sierra Madre Mountains.\n",
            "When Dr. Henry Jones Sr. suddenly goes missing while pursuing the Holy Grail, eminent archaeologist Indiana Jones must follow in his father's footsteps to stop the Nazis from getting their hands on the Holy Grail first.\n",
            "When two male musicians witness a mob hit, they flee the state in an all-female band disguised as women, but further complications set in.\n",
            "After training with his mentor, Batman begins his fight to free crime-ridden Gotham City from the corruption that Scarecrow and the League of Shadows have cast upon it.\n",
            "Seventy-eight year old Carl Fredricksen travels to Paradise Falls in his home equipped with balloons, inadvertently taking a young stowaway.\n",
            "Pulp novelist Holly Martins travels to shadowy, postwar Vienna, only to find himself investigating the mysterious death of an old friend, Harry Lime.\n",
            "Retired Old West gunslinger William Munny reluctantly takes on one last job, with the help of his old partner and a young man.\n",
            "In 1948, an American court in occupied Germany tries four Nazi judges for war crimes.\n",
            "An emotionally self-destructive boxer's journey through life, as the violence and temper that leads him to the top in the ring destroys his life outside it.\n",
            "Allied prisoners of war plan for several hundred of their number to escape from a German camp during World War II.\n",
            "A group of professional bank robbers start to feel the heat from police when they unknowingly leave a clue at their latest heist, while both sides attempt to find balance between their personal lives with their professional lives.\n",
            "John McClane, officer of the NYPD, tries to save his wife Holly Gennaro and several others that were taken hostage by German terrorist Hans Gruber during a Christmas party at the Nakatomi Plaza in Los Angeles.\n",
            "A prospector goes to the Klondike in search of gold and finds it and more.\n",
            "A private detective hired to expose an adulterer finds himself caught up in a web of deceit, corruption, and murder.\n",
            "An ex-prize fighter turned longshoreman struggles to stand up to his corrupt union bosses.\n",
            "A naive man is appointed to fill a vacancy in the United States Senate. His plans promptly collide with political corruption, but he doesn't back down.\n",
            "When Union spies steal an engineer's beloved locomotive, he pursues it single-handedly and straight through enemy lines.\n",
            "After young Riley is uprooted from her Midwest life and moved to San Francisco, her emotions - Joy, Fear, Anger, Disgust and Sadness - conflict on how best to navigate a new city, house, and school.\n",
            "After settling his differences with a Japanese PoW camp commander, a British colonel co-operates to oversee his men's construction of a railway bridge for their captors - while oblivious to a plan by the Allies to destroy it.\n",
            "A young boy is raised within the confines of a small shed.\n",
            "A jazz pianist falls for an aspiring actress in Los Angeles.\n",
            "In the near future, a weary Logan cares for an ailing Professor X somewhere on the Mexican border. However, Logan's attempts to hide from the world and his legacy are upended when a young mutant arrives, pursued by dark forces.\n",
            "A blade runner must pursue and try to terminate four replicants who stole a ship in space and have returned to Earth to find their creator.\n",
            "A botched card game in London triggers four friends, thugs, weed-growers, hard gangsters, loan sharks and debt collectors to collide with each other in a series of unexpected events, all for the sake of weed, cash and two antique shotguns.\n",
            "Greed, deception, money, power, and murder occur between two best friends: a mafia underboss and a casino owner, for a trophy wife over a gambling empire.\n",
            "After John Nash, a brilliant but asocial mathematician, accepts secret work in cryptography, his life takes a turn for the nightmarish.\n",
            "A Victorian surgeon rescues a heavily disfigured man who is mistreated while scraping a living as a side-show freak. Behind his monstrous facade, there is revealed a person of intelligence and sensitivity.\n",
            "The youngest son of an alcoholic former boxer returns home, where he's trained by his father for competition in a mixed martial arts tournament - a path that puts the fighter on a collision course with his estranged, older brother.\n",
            "In a future British tyranny, a shadowy freedom fighter, known only by the alias of \"V\", plots to overthrow it with the help of a young woman.\n",
            "Based on the true story of Jordan Belfort, from his rise to a wealthy stock-broker living the high life to his fall involving crime, corruption and the federal government.\n",
            "An ex-tennis pro carries out a plot to murder his wife. When things go wrong, he improvises a brilliant plan B.\n",
            "WWII American Army Medic Desmond T. Doss, who served during the Battle of Okinawa, refuses to kill people, and becomes the first man in American history to receive the Medal of Honor without firing a shot.\n",
            "A manipulative woman and a roguish man conduct a turbulent romance during the American Civil War and Reconstruction periods.\n",
            "In the 7th century, Mohammed, Peace Be Upon Him, is visited by Angel Gabriel who urges him to lead the people of Mecca and worship God. But they're exiled in Medina before returning to ...\n",
            "A self-conscious bride is tormented by the memory of her husband's dead first wife.\n",
            "Renton, deeply immersed in the Edinburgh drug scene, tries to clean up and get out, despite the allure of the drugs and influence of friends.\n",
            "An in-depth examination of the ways in which the U.S. Vietnam War impacts and disrupts the lives of people in a small industrial town in Pennsylvania.\n",
            "A man refuses to conform to life in a rural prison.\n",
            "Disgruntled Korean War veteran Walt Kowalski sets out to reform his neighbor, a Hmong teenager who tried to steal Kowalski's prized possession: a 1972 Gran Torino.\n",
            "\"The Dude\" Lebowski, mistaken for a millionaire Lebowski, seeks restitution for his ruined rug and enlists his bowling buddies to help get it.\n",
            "A research facility in Antarctica comes across an alien force that can become anything it touches with 100% accuracy. The members must now find out who's human and who's not before it's too late.\n",
            "A spoiled heiress running away from her family is helped by a man who is actually a reporter in need of a story.\n",
            "Jerry Lundegaard's inept crime falls apart due to his and his henchmen's bungling and the persistent police work of the quite pregnant Marge Gunderson.\n",
            "A boy who communicates with spirits that don't know they're dead seeks the help of a disheartened child psychologist.\n",
            "After his son is captured in the Great Barrier Reef and taken to Sydney, a timid clownfish sets out on a journey to bring him home.\n",
            "A tale of friendship between two unlikely pen pals: Mary, a lonely, eight-year-old girl living in the suburbs of Melbourne, and Max, a forty-four-year old, severely obese man living in New York.\n",
            "Violence and mayhem ensue after a hunter stumbles upon a drug deal gone wrong and more than two million dollars in cash near the Rio Grande.\n",
            "A hapless young Viking who aspires to hunt dragons becomes the unlikely friend of a young dragon himself, and learns there may be more to the creatures than he assumed.\n",
            "A story of family, religion, hatred, oil and madness, focusing on a turn-of-the-century prospector in the early days of the business.\n",
            "After graduating from Emory University, top student and athlete Christopher McCandless abandons his possessions, gives his entire $24,000 savings account to charity and hitchhikes to Alaska to live in the wilderness. Along the way, Christopher encounters a series of characters that shape his life.\n",
            "The Bride wakens from a four-year coma. The child she carried in her womb is gone. Now she must wreak vengeance on the team of assassins who betrayed her - a team she was once part of.\n",
            "With his wife's disappearance having become the focus of an intense media circus, a man sees the spotlight turned on him when it's suspected that he may not be innocent.\n",
            "Brian is born on the original Christmas, in the stable next door. He spends his life being mistaken for a messiah.\n",
            "A television network cynically exploits a deranged former anchor's ravings and revelations about the news media for its own profit.\n",
            "In 1954, a U.S. marshal investigates the disappearance of a murderess who escaped from a hospital for the criminally insane.\n",
            "A man's coerced confession to an IRA bombing he did not commit results in the imprisonment of his father as well. An English lawyer fights to free them.\n",
            "The merciless 1970s rivalry between Formula One rivals James Hunt and Niki Lauda.\n",
            "Paul Rusesabagina was a hotel manager who housed over a thousand Tutsi refugees during their struggle against the Hutu militia in Rwanda.\n",
            "A young recruit in Vietnam faces a moral crisis when confronted with the horrors of war and the duality of man.\n",
            "Ben, a young Irish boy, and his little sister Saoirse, a girl who can turn into a seal, go on an adventure to free the fairies and save the spirit world.\n",
            "When a Jewish prince is betrayed and sent into slavery by a Roman friend, he regains his freedom and comes back for revenge.\n",
            "After the death of a friend, a writer recounts a boyhood journey to find the body of a missing boy.\n",
            "A college professor's bond with the abandoned dog he takes into his home.\n",
            "A distant poor relative of the Duke of D'Ascoyne plots to inherit the title by murdering the eight other heirs who stand ahead of him in the line of succession.\n",
            "A private detective takes on a case that involves him with three eccentric criminals, a gorgeous liar, and their quest for a priceless statuette.\n",
            "Two Western bank/train robbers flee to Bolivia when the law gets too close.\n",
            "A baby boy, discovered in 1900 on an ocean liner, grows into a musical prodigy, never setting foot on land.\n",
            "The true story of how the Boston Globe uncovered the massive scandal of child molestation and cover-up within the local Catholic Archdiocese, shaking the entire Catholic Church to its core.\n",
            "Meeting a stranger in a railway station, a woman is tempted to cheat on her husband.\n",
            "Three World War II veterans return home to small-town America to discover that they and their families have been irreparably changed.\n",
            "A poor Midwest family is forced off their land. They travel to California, suffering the misfortunes of the homeless in the Great Depression.\n",
            "In the antebellum United States, Solomon Northup, a free black man from upstate New York, is abducted and sold into slavery.\n",
            "The adventures of Gustave H, a legendary concierge at a famous hotel from the fictional Republic of Zubrowka between the first and second World Wars, and Zero Moustafa, the lobby boy who becomes his most trusted friend.\n",
            "A woman rebels against a tyrannical ruler in postapocalyptic Australia in search for her home-land with the help of a group of female prisoners, a psychotic worshipper, and a drifter named Max.\n",
            "While home sick in bed, a young boy's grandfather reads him a story called The Princess Bride.\n",
            "A former child star torments her paraplegic sister in their decaying Hollywood mansion.\n",
            "A determined woman works with a hardened boxing trainer to become a professional.\n",
            "During a preview tour, a theme park suffers a major power breakdown that allows its cloned dinosaur exhibits to run amok.\n",
            "A stark, perverse story of murder, kidnapping, and police corruption in a Mexican border town.\n",
            "Peter Parker, with the help of his mentor Tony Stark, tries to balance his life as an ordinary high school student in New York City while fighting crime as his superhero alter ego Spider-Man when a new threat emerges.\n",
            "A young man and woman meet on a train in Europe, and wind up spending one evening together in Vienna. Unfortunately, both know that this will probably be their only night together.\n",
            "An insurance salesman/adjuster discovers his entire life is actually a television show.\n",
            "Harry, Ron and Hermione search for Voldemort's remaining Horcruxes in their effort to destroy the Dark Lord as the final battle rages on at Hogwarts.\n",
            "Three decades after the Empire's defeat, a new threat arises in the militant First Order. Stormtrooper defector Finn and spare parts scavenger Rey are caught up in the Resistance's search for the missing Luke Skywalker.\n",
            "Travis Henderson, an aimless drifter who has been missing for four years, wanders out of the desert and must reconnect with society, himself, his life, and his family.\n",
            "In 1951, a group of high schoolers come of age in a bleak, isolated, atrophied West Texas town that is slowly dying, both culturally and economically.\n",
            "Gandhi's character is fully explained as a man of nonviolence. Through his patience, he is able to drive the British out of the subcontinent. And the stubborn nature of Jinnah and his commitment towards Pakistan is portrayed.\n",
            "An Irish rogue wins the heart of a rich widow and assumes her dead husband's aristocratic position in 18th-century England.\n",
            "Rocky Balboa, a small-time boxer, gets a supremely rare chance to fight heavy-weight champion Apollo Creed in a bout in which he strives to go the distance for his self-respect.\n",
            "Neurotic New York comedian Alvy Singer falls in love with the ditzy Annie Hall.\n",
            "When Keller Dover's daughter and her friend go missing, he takes matters into his own hands as the police pursue multiple leads and the pressure mounts.\n",
            "A troubled teenager is plagued by visions of a man in a large rabbit suit who manipulates him to commit a series of crimes, after he narrowly escapes a bizarre accident.\n",
            "The story of 'Frank Abagnale Jr., before his 19th birthday, successfully forged millions of dollars' worth of checks while posing as a Pan Am pilot, a doctor, and legal prosecutor as a seasoned and dedicated FBI agent pursues him.\n",
            "A senator, who became famous for killing a notorious outlaw, returns for the funeral of an old friend and tells the truth about his deed.\n",
            "A police detective falls in love with the woman whose murder he is investigating.\n",
            "In order to power the city, monsters have to scare children so that they scream. However, the children are toxic to the monsters, and after a child gets through, 2 monsters realize things may not be what they think.\n",
            "Jason Bourne dodges a ruthless CIA official and his agents from a new assassination program while searching for the origins of his life as a trained killer.\n",
            "Brick, an alcoholic ex-football player, drinks his days away and resists the affections of his wife, Maggie. His reunion with his father, Big Daddy, who is dying of cancer, jogs a host of memories and revelations for both father and son.\n",
            "Dorothy Gale is swept away from a farm in Kansas to a magical land of Oz in a tornado and embarks on a quest with her new friends to see the Wizard who can help her return home in Kansas and help her friends as well.\n",
            "A man who loves games and theater invites his wife's lover to meet him, setting up a battle of wits with potentially deadly results.\n",
            "A bored and sheltered princess escapes her guardians and falls in love with an American newsman in Rome.\n",
            "A private eye escapes his past to run a gas station in a small town, but his past catches up with him. Now he must return to the big city world of danger, corruption, double crosses and duplicitous dames.\n",
            "In a murder trial, the defendant says he suffered temporary insanity after the victim raped his wife. What is the truth, and will he win his case?\n",
            "A bitter, aging couple, with the help of alcohol, use a young couple to fuel anguish and emotional pain towards each other.\n",
            "A seemingly indestructible humanoid cyborg is sent from 2029 to 1984 to assassinate a waitress, whose unborn son will lead humanity in a war against the machines, while a soldier from that war is sent to protect her at all costs.\n",
            "A weatherman finds himself inexplicably living the same day over and over again.\n",
            "An aspiring author during the civil rights movement of the 1960s decides to write a book detailing the African American maids' point of view on the white families for which they work, and the hardships they go through on a daily basis.\n",
            "A psychotic socialite confronts a pro tennis star with a theory on how two complete strangers can get away with murder - a theory that he plans to implement.\n",
            "A religious fanatic marries a gullible widow whose young children are reluctant to tell him where their real daddy hid $10,000 he'd stolen in a robbery.\n",
            "A young soldier faces profound disillusionment in the soul-destroying horror of World War I.\n",
            "A young woman whose father has been imprisoned by a terrifying beast offers herself in his place, unaware that her captor is actually a prince, physically altered by a magic spell.\n",
            "A five-year-old Indian boy gets lost on the streets of Calcutta, thousands of kilometers from home. He survives many challenges before being adopted by a couple in Australia. 25 years later, he sets out to find his lost family.\n",
            "In a future world devastated by disease, a convict is sent back in time to gather information about the man-made virus that wiped out most of the human population on the planet.\n",
            "A group of intergalactic criminals are forced to work together to stop a fanatical warrior from taking control of the universe.\n",
            "A man robs a bank to pay for his lover's operation; it turns into a hostage situation and a media circus.\n",
            "A giant great white shark arrives on the shores of a New England beach resort and wreaks havoc with bloody attacks on swimmers, until a local sheriff teams up with a marine biologist and an old seafarer to hunt the monster down.\n",
            "In a city of anthropomorphic animals, a rookie bunny cop and a cynical con artist fox must work together to uncover a conspiracy.\n",
            "The Guardians must fight to keep their newfound family together as they unravel the mystery of Peter Quill's true parentage.\n",
            "Blacksmith Will Turner teams up with eccentric pirate \"Captain\" Jack Sparrow to save his love, the governor's daughter, from Jack's former pirate allies, who are now undead.\n",
            "Nine years after Jesse and Celine first met, they encounter each other again on the French leg of Jesse's book tour.\n",
            "During World War II, mathematician Alan Turing tries to crack the enigma code with help from fellow mathematicians.\n",
            "An American grandson of the infamous scientist, struggling to prove that he is not as insane as people believe, is invited to Transylvania, where he discovers the process that reanimates a dead body.\n",
            "When two escaping American World War II prisoners are killed, the German POW camp barracks black marketeer, J.J. Sefton, is suspected of being an informer.\n",
            "A woman on the run from the mob is reluctantly accepted in a small Colorado town. In exchange, she agrees to work for them. As a search visits town, she finds out that their support has a price. Yet her dangerous secret is never far away...\n",
            "English teacher John Keating inspires his students to look at poetry with a different perspective of authentic knowledge and feelings.\n",
            "Marshal Will Kane, personally compelled to face his returning deadly enemy Frank Miller, finds that his fellow townspeople refuse to help him.\n",
            "A man befriends a fellow criminal as the two of them begin serving their sentence on a dreadful prison island, which inspires the man to plot his escape.\n",
            "Disturbed Blanche DuBois moves in with her sister in New Orleans and is tormented by her brutish brother-in-law while her reality crumbles around her.\n",
            "A drama critic learns on his wedding day that his beloved maiden aunts are homicidal maniacs, and that insanity runs in his family.\n",
            "A film that explores the dark and miserable town, Basin City, and tells the story of three different people, all caught up in violent corruption.\n",
            "An up-and-coming pool player plays a long-time champion in a single high-stakes match.\n",
            "A sly business manager and two wacky friends of two opera singers help them achieve success while humiliating their stuffy and snobbish enemies.\n",
            "Crooks plan and execute a daring race-track robbery.\n",
            "Earth's mightiest heroes must come together and learn to fight as a team if they are to stop the mischievous Loki and his alien army from enslaving humanity.\n",
            "A woman is asked to spy on a group of Nazi friends in South America. How far will she have to go to ingratiate herself with them?\n",
            "Due to his insistence that he has an invisible six foot-tall rabbit for a best friend, a whimsical middle-aged man is thought by his family to be insane - but he may be wiser than anyone knows.\n",
            "An astronaut becomes stranded on Mars after his team assume him dead, and must rely on his ingenuity to find a way to signal to Earth that he is alive.\n",
            "When a teenage girl is possessed by a mysterious entity, her mother seeks the help of two priests to save her daughter.\n",
            "A small-town sheriff in the American West enlists the help of a cripple, a drunk, and a young gunfighter in his efforts to hold in jail the brother of the local bad guy.\n",
            "When a rich woman's ex-husband and a tabloid-type reporter turn up just before her planned remarriage, she begins to learn the truth about herself.\n",
            "Two young men strangle their \"inferior\" classmate, hide his body in their apartment, and invite his friends and family to a dinner party as a means to challenge the \"perfection\" of their crime.\n",
            "Private detective Philip Marlowe is hired by a rich family. Before the complex case is over, he's seen murder, blackmail, and what might be love.\n",
            "A confined but troubled rock star descends into madness in the midst of his physical and social isolation from everyone.\n",
            "The story of King George VI of the United Kingdom of Great Britain and Northern Ireland, his impromptu ascension to the throne and the speech therapist who helped the unsure monarch become worthy of it.\n",
            "In the 1940s, a young boy named Ralphie attempts to convince his parents, his teacher, and Santa that a Red Ryder B.B. gun really is the perfect Christmas gift.\n",
            "A disillusioned college graduate finds himself torn between his older lover and her daughter.\n",
            "A New Orleans DA discovers there's more to the Kennedy assassination than the official story.\n",
            "Karl Childers, a simple man hospitalized since his childhood murder of his mother and her lover, is released to start a new life in a small town.\n",
            "A fisherman, a smuggler, and a syndicate of businessmen match wits over the possession of a priceless diamond.\n",
            "An epic mosaic of interrelated characters in search of love, forgiveness, and meaning in the San Fernando Valley.\n",
            "Selfish yuppie Charlie Babbitt's father left a fortune to his savant brother Raymond and a pittance to Charlie; they travel cross-country.\n",
            "A frontiersman on a fur trading expedition in the 1820s fights for survival after being mauled by a bear and left for dead by members of his own hunting team.\n",
            "Jack Skellington, king of Halloween Town, discovers Christmas Town, but his attempts to bring Christmas to his home cause confusion.\n",
            "A former prisoner of war is brainwashed as an unwitting assassin for an international Communist conspiracy.\n",
            "A fast-talking mercenary with a morbid sense of humor is subjected to a rogue experiment that leaves him with accelerated healing powers and a quest for revenge.\n",
            "An aging group of outlaws look for one last big score as the \"traditional\" American West is disappearing around them.\n",
            "When a street urchin vies for the love of a beautiful princess, he uses a genie's magic power to make himself off as a prince in order to marry her.\n",
            "A frustrated son tries to determine the fact from fiction in his dying father's life.\n",
            "The World War II phase of the career of the controversial American general, George S. Patton.\n",
            "The desperate life of a chronic alcoholic is followed through a four-day drinking bout.\n",
            "A 20-something supervising staff member of a residential treatment facility navigates the troubled waters of that world alongside her co-worker and longtime boyfriend.\n",
            "A newspaper editor uses every trick in the book to keep his ace reporter ex-wife from remarrying.\n",
            "An old man makes a long journey by lawn-mover tractor to mend his relationship with an ill brother.\n",
            "A Mumbai teen reflects on his upbringing in the slums when he is accused of cheating on the Indian Version of \"Who Wants to be a Millionaire?\"\n"
          ],
          "name": "stdout"
        }
      ]
    },
    {
      "cell_type": "code",
      "metadata": {
        "id": "EufF_tl4hDDb"
      },
      "source": [
        "df['Key_words'] = \"\"\n",
        "\n",
        "for index, row in df.iterrows():\n",
        "    plot = row['Plot']\n",
        "        \n",
        "    # instantiating Rake, by default it uses english stopwords from NLTK\n",
        "    # and discards all puntuation characters as well\n",
        "    r = Rake()\n",
        "\n",
        "    # extracting the words by passing the text\n",
        "    r.extract_keywords_from_text(plot)\n",
        "\n",
        "    # getting the dictionary whith key words as keys and their scores as values\n",
        "    key_words_dict_scores = r.get_word_degrees()\n",
        "    \n",
        "    # assigning the key words to the new column for the corresponding movie\n",
        "    row['Key_words'] = list(key_words_dict_scores.keys())\n",
        "\n",
        "# dropping the Plot column\n",
        "#df.drop(columns = ['Plot'], inplace = True)"
      ],
      "execution_count": 253,
      "outputs": []
    },
    {
      "cell_type": "code",
      "metadata": {
        "colab": {
          "base_uri": "https://localhost:8080/"
        },
        "id": "OByI9BfMu0QP",
        "outputId": "66c2f7f9-1865-4764-9894-eb8935c7ee46"
      },
      "source": [
        "df['Key_words']"
      ],
      "execution_count": 254,
      "outputs": [
        {
          "output_type": "execute_result",
          "data": {
            "text/plain": [
              "0      [two, imprisoned, men, bond, common, decency, finding, solace, acts, eventual, redemption, years...\n",
              "1      [organized, crime, dynasty, transfers, control, clandestine, empire, reluctant, son, aging, patr...\n",
              "2      [early, life, son, grip, family, crime, syndicate, 1920s, new, york, expands, career, michael, v...\n",
              "3      [mysterious, past, greatest, psychological, chaos, people, menace, known, wreaks, havoc, fight, ...\n",
              "4      [reconsider, miscarriage, colleagues, evidence, prevent, jury, holdout, attempts, forcing, justice]\n",
              "                                                      ...                                                 \n",
              "245                             [chronic, alcoholic, four, followed, day, drinking, bout, desperate, life]\n",
              "246    [longtime, boyfriend, co, worker, troubled, waters, residential, treatment, facility, navigates,...\n",
              "247               [book, wife, ace, reporter, ex, remarrying, newspaper, editor, uses, every, trick, keep]\n",
              "248               [long, journey, mend, old, man, makes, mover, tractor, lawn, ill, brother, relationship]\n",
              "249    [upbringing, indian, version, wants, mumbai, teen, reflects, accused, millionaire, ?\", cheating,...\n",
              "Name: Key_words, Length: 250, dtype: object"
            ]
          },
          "metadata": {
            "tags": []
          },
          "execution_count": 254
        }
      ]
    },
    {
      "cell_type": "code",
      "metadata": {
        "id": "tsTBTEm8l_ht"
      },
      "source": [
        "#Remove punctuation and convert to lower\n",
        "def genre(text):\n",
        "  l= ''.join([word.lower() for word in text if word not in string.punctuation])\n",
        "  return l\n"
      ],
      "execution_count": 192,
      "outputs": []
    },
    {
      "cell_type": "code",
      "metadata": {
        "id": "r99QZLpfopiy"
      },
      "source": [
        "#remove delimiter and conver to lower\n",
        "def director(text):\n",
        "  t= ''.join(re.split('\\W+', text.lower()))\n",
        "  return t"
      ],
      "execution_count": 193,
      "outputs": []
    },
    {
      "cell_type": "code",
      "metadata": {
        "id": "T4kI1bgC0UtR"
      },
      "source": [
        "#combine multiple names with space\n",
        "def actors(text):\n",
        "  l=''.join(re.split('\\s+',text.lower()))\n",
        "  l1=' '.join(re.split(\",\",l))\n",
        "  return l1"
      ],
      "execution_count": 194,
      "outputs": []
    },
    {
      "cell_type": "code",
      "metadata": {
        "id": "aqlUaaHEa8_q"
      },
      "source": [
        "def key(text):\n",
        "  l=''.join(re.split('\\s+',text))\n",
        "  l1=' '.join(re.split(\",\",l))\n",
        "  return l1"
      ],
      "execution_count": 197,
      "outputs": []
    },
    {
      "cell_type": "code",
      "metadata": {
        "id": "FQ0xWt00pBrH"
      },
      "source": [
        "df['Genre1']= df['Genre'].apply(lambda x : genre(x))\n",
        "df['Director1']= df['Director'].apply(lambda x : director(x))\n",
        "df['Actors1']= df['Actors'].apply(lambda x : actors(x))\n",
        "df['Key_words1']= df['Key_words'].apply(lambda x : ' '.join(x))\n"
      ],
      "execution_count": 210,
      "outputs": []
    },
    {
      "cell_type": "code",
      "metadata": {
        "id": "SyMkt0IPpCHe"
      },
      "source": [
        "df['bag_of_words']= df['Genre1'].astype(str)+' '+ df['Director1'].astype(str)+ ' '+ df['Actors1'].astype(str)+ ' '+ df['Key_words1'].astype(str)"
      ],
      "execution_count": 213,
      "outputs": []
    },
    {
      "cell_type": "code",
      "metadata": {
        "id": "4qX9Q15b2D_X"
      },
      "source": [
        "# instantiating and generating the count matrix\n",
        "count = CountVectorizer()\n",
        "count_matrix = count.fit_transform(df['bag_of_words'])\n",
        "\n",
        "# generating the cosine similarity matrix\n",
        "cosine_sim = cosine_similarity(count_matrix, count_matrix)"
      ],
      "execution_count": 214,
      "outputs": []
    },
    {
      "cell_type": "code",
      "metadata": {
        "id": "1SGJ03DrxBcZ"
      },
      "source": [
        "# creating a Series for the movie titles so they are associated to an ordered numerical\n",
        "# list I will use in the function to match the indexes\n",
        "indices = pd.Series(df.index)\n",
        "\n",
        "#  defining the function that takes in movie title \n",
        "# as input and returns the top 10 recommended movies\n",
        "def recommendations(title, cosine_sim = cosine_sim):\n",
        "    \n",
        "    # initializing the empty list of recommended movies\n",
        "    recommended_movies = []\n",
        "    \n",
        "    # gettin the index of the movie that matches the title\n",
        "    idx = indices[indices == title].index[0]\n",
        "\n",
        "    # creating a Series with the similarity scores in descending order\n",
        "    score_series = pd.Series(cosine_sim[idx]).sort_values(ascending = False)\n",
        "\n",
        "    # getting the indexes of the 10 most similar movies\n",
        "    top_10_indexes = list(score_series.iloc[1:11].index)\n",
        "    \n",
        "    # populating the list with the titles of the best 10 matching movies\n",
        "    for i in top_10_indexes:\n",
        "        recommended_movies.append(list(df.index)[i])\n",
        "        \n",
        "    return recommended_movies"
      ],
      "execution_count": 215,
      "outputs": []
    },
    {
      "cell_type": "code",
      "metadata": {
        "colab": {
          "base_uri": "https://localhost:8080/"
        },
        "id": "7hj9Sejl6i7a",
        "outputId": "c7da61e4-dddc-467d-828f-167e1ea30bd6"
      },
      "source": [
        "title= \"Batman Begins\"\n",
        "j=recommendations(df[df['Title']==title].index[0], cosine_sim)\n",
        "for i in j:\n",
        "  print(df.iloc[i][\"Title\"])"
      ],
      "execution_count": 250,
      "outputs": [
        {
          "output_type": "stream",
          "text": [
            "The Dark Knight\n",
            "The Dark Knight Rises\n",
            "Spider-Man: Homecoming\n",
            "Star Wars: Episode V - The Empire Strikes Back\n",
            "The Prestige\n",
            "Guardians of the Galaxy Vol. 2\n",
            "Sin City\n",
            "Baby Driver\n",
            "Inception\n",
            "Song of the Sea\n"
          ],
          "name": "stdout"
        }
      ]
    },
    {
      "cell_type": "code",
      "metadata": {
        "colab": {
          "base_uri": "https://localhost:8080/"
        },
        "id": "-o3aavc-7KZb",
        "outputId": "aca420ed-fc72-4bad-ca48-fe5049fe81ac"
      },
      "source": [
        ""
      ],
      "execution_count": 249,
      "outputs": [
        {
          "output_type": "stream",
          "text": [
            "The Dark Knight\n",
            "The Dark Knight Rises\n",
            "Spider-Man: Homecoming\n",
            "Star Wars: Episode V - The Empire Strikes Back\n",
            "The Prestige\n",
            "Guardians of the Galaxy Vol. 2\n",
            "Sin City\n",
            "Baby Driver\n",
            "Inception\n",
            "Song of the Sea\n"
          ],
          "name": "stdout"
        }
      ]
    },
    {
      "cell_type": "code",
      "metadata": {
        "id": "0UnPwFkHd1PX"
      },
      "source": [
        ""
      ],
      "execution_count": null,
      "outputs": []
    }
  ]
}